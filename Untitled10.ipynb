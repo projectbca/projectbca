{
  "nbformat": 4,
  "nbformat_minor": 0,
  "metadata": {
    "colab": {
      "provenance": []
    },
    "kernelspec": {
      "name": "python3",
      "display_name": "Python 3"
    },
    "language_info": {
      "name": "python"
    }
  },
  "cells": [
    {
      "cell_type": "code",
      "execution_count": null,
      "metadata": {
        "id": "CazO_2Bd17Z6"
      },
      "outputs": [],
      "source": [
        "def find_weather(city_name):\n",
        "   city_name = city_name.replace(\" \", \"+\")\n",
        "   try:\n",
        "       res = requests.get(\n",
        "f'https://www.google.com/search?q={city_name}&oq={city_name}&aqs=chrome.0.35i39l2j0l4j46j69i60.6128j1j7&sourceid=chrome&ie=UTF-8', headers=headers)\n",
        "       print(\"Loading...\")\n",
        "       soup = BeautifulSoup(res.text, 'html.parser')\n",
        "       location = soup.select('#wob_loc')[0].getText().strip()\n",
        "       time = soup.select('#wob_dts')[0].getText().strip()\n",
        "       info = soup.select('#wob_dc')[0].getText().strip()\n",
        "       temperature = soup.select('#wob_tm')[0].getText().strip()\n",
        "       print(\"Location: \" + location)\n",
        "       print(\"Temperature: \" + temperature + \"&deg;C\")\n",
        "       print(\"Time: \" + time)\n",
        "       print(\"Weather Description: \" + info)\n",
        "   except:\n",
        "       print(\"Please enter a valid city name\")\n",
        "city_name = input(\"Enter City Name: \")\n",
        "city_name = city_name + \" weather\"\n",
        "find_weather(city_name)\n"
      ]
    }
  ]
}